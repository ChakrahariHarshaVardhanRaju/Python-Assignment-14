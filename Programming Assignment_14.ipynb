{
 "cells": [
  {
   "cell_type": "markdown",
   "id": "9bf47949",
   "metadata": {},
   "source": [
    "## Python Basic Programming Assignment - 14\n",
    "---------------------"
   ]
  },
  {
   "cell_type": "markdown",
   "id": "a8074819",
   "metadata": {},
   "source": [
    "### 1. Define a class with a generator which can iterate the numbers, which are divisible by 7, between a given range 0 and n."
   ]
  },
  {
   "cell_type": "code",
   "execution_count": 7,
   "id": "9f6f802a",
   "metadata": {},
   "outputs": [
    {
     "name": "stdout",
     "output_type": "stream",
     "text": [
      "Enter a number n: 49\n",
      "0\n",
      "7\n",
      "14\n",
      "21\n",
      "28\n",
      "35\n",
      "42\n",
      "49\n"
     ]
    }
   ],
   "source": [
    "class DivisibleBySeven:\n",
    "    def __init__(self, n):\n",
    "        self.n = n\n",
    "\n",
    "    def generator(self):\n",
    "        for i in range(self.n + 1):\n",
    "            if i % 7 == 0:\n",
    "                yield i\n",
    "\n",
    "n = int(input(\"Enter a number n: \"))\n",
    "divisible_by_seven = DivisibleBySeven(n)\n",
    "for num in divisible_by_seven.generator():\n",
    "    print(num)"
   ]
  },
  {
   "cell_type": "markdown",
   "id": "8127371b",
   "metadata": {},
   "source": [
    "### 2. Write a program to compute the frequency of the words from the input. The output should output after sorting the key alphanumerically."
   ]
  },
  {
   "cell_type": "code",
   "execution_count": 13,
   "id": "98167da3",
   "metadata": {},
   "outputs": [
    {
     "name": "stdout",
     "output_type": "stream",
     "text": [
      "Enter a sentence: Data exploration allows data analysts to develop a general but valuable understanding of individual data sets before delving into the true nitty-gritty of analysis and interpretation.\n",
      "Data 1\n",
      "a 1\n",
      "allows 1\n",
      "analysis 1\n",
      "analysts 1\n",
      "and 1\n",
      "before 1\n",
      "but 1\n",
      "data 2\n",
      "delving 1\n",
      "develop 1\n",
      "exploration 1\n",
      "general 1\n",
      "individual 1\n",
      "interpretation. 1\n",
      "into 1\n",
      "nitty-gritty 1\n",
      "of 2\n",
      "sets 1\n",
      "the 1\n",
      "to 1\n",
      "true 1\n",
      "understanding 1\n",
      "valuable 1\n"
     ]
    }
   ],
   "source": [
    "def frequency_of_words(sentence):\n",
    "    words = sentence.split()\n",
    "    frequency = {}\n",
    "    for word in words:\n",
    "        if word in frequency:\n",
    "            frequency[word] += 1\n",
    "        else:\n",
    "            frequency[word] = 1\n",
    "    return frequency\n",
    "\n",
    "sentence = input(\"Enter a sentence: \")\n",
    "frequency = frequency_of_words(sentence)\n",
    "sorted_frequency = sorted(frequency.items(), key=lambda x: x[0])\n",
    "for word, count in sorted_frequency:\n",
    "    print(word, count)\n"
   ]
  },
  {
   "cell_type": "markdown",
   "id": "58b5940f",
   "metadata": {},
   "source": [
    "### 3. Please write a program to generate all sentences where subject is in [\"I\", \"You\"] and verb is in ['Play', \"Love\"] and the object is in [\"Hockey\",\"Football\"]."
   ]
  },
  {
   "cell_type": "code",
   "execution_count": 3,
   "id": "55e78fa5",
   "metadata": {},
   "outputs": [
    {
     "name": "stdout",
     "output_type": "stream",
     "text": [
      "I Play Hockey\n",
      "I Play Football\n",
      "I Love Hockey\n",
      "I Love Football\n",
      "You Play Hockey\n",
      "You Play Football\n",
      "You Love Hockey\n",
      "You Love Football\n"
     ]
    }
   ],
   "source": [
    "subjects = [\"I\", \"You\"]\n",
    "verbs = [\"Play\", \"Love\"]\n",
    "objects = [\"Hockey\",\"Football\"]\n",
    "\n",
    "for subject in subjects:\n",
    "    for verb in verbs:\n",
    "        for obj in objects:\n",
    "            sentence = f\"{subject} {verb} {obj}\"\n",
    "            print(sentence)\n"
   ]
  },
  {
   "cell_type": "markdown",
   "id": "0ddf4f59",
   "metadata": {},
   "source": [
    "### 4. Please write a program to compress and decompress the string \"hello world!hello world!hello world!hello world!\""
   ]
  },
  {
   "cell_type": "code",
   "execution_count": 22,
   "id": "1e1ca93c",
   "metadata": {},
   "outputs": [
    {
     "name": "stdout",
     "output_type": "stream",
     "text": [
      "Compressed string: h1e1l2o1 1w1o1r1l1d1!1h1e1l2o1 1w1o1r1l1d1!1h1e1l2o1 1w1o1r1l1d1!1h1e1l2o1 1w1o1r1l1d1!1\n",
      "Decompressed string: hello world!hello world!hello world!hello world!\n"
     ]
    }
   ],
   "source": [
    "def compress(string):\n",
    "    if not string:\n",
    "        return \"\"\n",
    "    result = []\n",
    "    current_char = string[0]\n",
    "    current_count = 1\n",
    "    for i in range(1, len(string)):\n",
    "        if string[i] == current_char:\n",
    "            current_count += 1\n",
    "        else:\n",
    "            result.append(f\"{current_char}{current_count}\")\n",
    "            current_char = string[i]\n",
    "            current_count = 1\n",
    "    result.append(f\"{current_char}{current_count}\")\n",
    "    return \"\".join(result)\n",
    "\n",
    "def decompress(compressed_string):\n",
    "    result = []\n",
    "    i = 0\n",
    "    while i < len(compressed_string):\n",
    "        current_char = compressed_string[i]\n",
    "        count = int(compressed_string[i + 1])\n",
    "        result.append(current_char * count)\n",
    "        i += 2\n",
    "    return \"\".join(result)\n",
    "\n",
    "string = \"hello world!hello world!hello world!hello world!\"\n",
    "compressed_string = compress(string)\n",
    "print(f\"Compressed string: {compressed_string}\")\n",
    "decompressed_string = decompress(compressed_string)\n",
    "print(f\"Decompressed string: {decompressed_string}\")\n"
   ]
  },
  {
   "cell_type": "markdown",
   "id": "2aeb595b",
   "metadata": {},
   "source": [
    "### 5. Please write a binary search function which searches an item in a sorted list. The function should return the index of element to be searched in the list."
   ]
  },
  {
   "cell_type": "code",
   "execution_count": 36,
   "id": "b9bd3a80",
   "metadata": {},
   "outputs": [
    {
     "name": "stdout",
     "output_type": "stream",
     "text": [
      "Element 6 is present at index 3\n"
     ]
    }
   ],
   "source": [
    "def binary_search(arr, x):\n",
    "    left, right = 0, len(arr) - 1\n",
    "    while left <= right:\n",
    "        mid = left + (right - left) // 2\n",
    "        if arr[mid] == x:\n",
    "            return mid\n",
    "        elif arr[mid] < x:\n",
    "            left = mid + 1\n",
    "        else:\n",
    "            right = mid - 1\n",
    "    return -1\n",
    "\n",
    "arr = [1, 3, 4, 6, 7, 8, 9]\n",
    "x = 6\n",
    "index = binary_search(arr, x)\n",
    "if index != -1:\n",
    "    print(f\"Element {x} is present at index {index}\")\n",
    "else:\n",
    "    print(\"Element is not present in the list\")\n"
   ]
  },
  {
   "cell_type": "code",
   "execution_count": null,
   "id": "a962cfb7",
   "metadata": {},
   "outputs": [],
   "source": []
  }
 ],
 "metadata": {
  "kernelspec": {
   "display_name": "Python 3 (ipykernel)",
   "language": "python",
   "name": "python3"
  },
  "language_info": {
   "codemirror_mode": {
    "name": "ipython",
    "version": 3
   },
   "file_extension": ".py",
   "mimetype": "text/x-python",
   "name": "python",
   "nbconvert_exporter": "python",
   "pygments_lexer": "ipython3",
   "version": "3.9.13"
  }
 },
 "nbformat": 4,
 "nbformat_minor": 5
}
